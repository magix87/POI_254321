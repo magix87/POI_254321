{
  "metadata": {
    "kernelspec": {
      "name": "python",
      "display_name": "Python (Pyodide)",
      "language": "python"
    },
    "language_info": {
      "codemirror_mode": {
        "name": "python",
        "version": 3
      },
      "file_extension": ".py",
      "mimetype": "text/x-python",
      "name": "python",
      "nbconvert_exporter": "python",
      "pygments_lexer": "ipython3",
      "version": "3.8"
    }
  },
  "nbformat_minor": 4,
  "nbformat": 4,
  "cells": [
    {
      "cell_type": "markdown",
      "source": "Zadanie 3 - laboratorium POI - 254321\nLink do repozytorium git \nhttps://github.com/magix87/POI_254321/tree/5cc6e08d859a0149036fc3d615def266111c8d1a/LAB03\nKod ten pozwala na wgranie folderów w plikami .jpg, nastepnie wyszkolenie i mozliwosc klasyfikacji zdjec\n",
      "metadata": {}
    },
    {
      "cell_type": "code",
      "source": "#okna dialogowe\nimport tkinter as tk\nfrom tkinter import filedialog, messagebox\n\nimport os\n\n#przetwarzanie obrazu\nfrom skimage import io, color\nfrom skimage.util import img_as_ubyte\nfrom skimage.feature import graycomatrix, graycoprops\n\n#przetwarzanie danych\nimport numpy as np\nimport pandas as pd\n\n#uczenie maszynowe\nfrom sklearn.model_selection import train_test_split\nfrom sklearn.preprocessing import StandardScaler\nfrom sklearn.svm import SVC\nfrom sklearn.metrics import accuracy_score\n",
      "metadata": {
        "trusted": true
      },
      "outputs": [],
      "execution_count": null
    },
    {
      "cell_type": "code",
      "source": "#funkcja umozliwiająca importowanie folderow z plikami .jpg poprzez eksplolator windows\ndef choose_texture_folder(prompt):\n    root = tk.Tk()\n    root.withdraw()\n    folder_chosen = filedialog.askdirectory(title=prompt)\n    root.destroy()\n    return folder_chosen",
      "metadata": {
        "trusted": true
      },
      "outputs": [],
      "execution_count": null
    },
    {
      "cell_type": "code",
      "source": "#funkcja przetwarzajaca pliki .jpg poprzez wycinanie ich w rozmiarze 128x128 px\ndef extract_and_resize_images(directory, resize=(128, 128)):\n    processed_images = []\n    for filename in os.listdir(directory):\n        if filename.lower().endswith('.jpg'):\n            img_path = os.path.join(directory, filename)\n            img = io.imread(img_path)\n            for i in range(0, img.shape[0], resize[0]):\n                for j in range(0, img.shape[1], resize[1]):\n                    if i + resize[0] <= img.shape[0] and j + resize[1] <= img.shape[1]:\n                        processed_images.append(img[i:i + resize[0], j:j + resize[1]])\n    return processed_images\n",
      "metadata": {
        "trusted": true
      },
      "outputs": [],
      "execution_count": null
    },
    {
      "cell_type": "code",
      "source": "#obliczanie cech zdjec na podstawie skali szarości\ndef compute_texture_features(images, dist_list, angle_list, feature_list, level_count=64):\n    feature_data = []\n    for img in images:\n        gray_img = color.rgb2gray(img)\n        gray_img = img_as_ubyte(gray_img) // 4\n        glcm_matrix = graycomatrix(gray_img, distances=dist_list, angles=angle_list, levels=level_count, symmetric=True, normed=True)\n        feature_vector = []\n        for prop in feature_list:\n            prop_values = graycoprops(glcm_matrix, prop).ravel()\n            feature_vector.append(prop_values)\n        feature_data.append(np.concatenate(feature_vector))\n    return np.array(feature_data)",
      "metadata": {
        "trusted": true
      },
      "outputs": [],
      "execution_count": null
    },
    {
      "cell_type": "code",
      "source": "#definiowanie modelu klasyfikatora\ndef setup_classifier():\n    return SVC(kernel='linear', probability=True)",
      "metadata": {
        "trusted": true
      },
      "outputs": [],
      "execution_count": null
    },
    {
      "cell_type": "code",
      "source": "#klasyfikacja obrazu, poprzez wybranie pliku do klasyfikacji, przetworzenie go wykorzystujac wczesniej napisane funkcje,  umozliwia wielokrotne klasyfikowanie\ndef execute_image_classification(model, scaler):\n    root = tk.Tk()\n    root.withdraw()\n    continue_classifying = True\n    while continue_classifying:\n        image_file = filedialog.askopenfilename(title=\"Select an Image to Classify\", filetypes=[(\"JPEG files\", \"*.jpg\")])\n        if image_file:\n            image = io.imread(image_file)\n            image = img_as_ubyte(image)\n            image_features = compute_texture_features([image], [1, 3, 5], [0, np.pi / 4, np.pi / 2, 3 * np.pi / 4], ['dissimilarity', 'correlation', 'contrast', 'energy', 'homogeneity', 'ASM'])\n            scaled_features = scaler.transform(image_features)\n            probabilities = model.predict_proba(scaled_features)[0]\n            prediction = model.predict(scaled_features)\n\n            max_prob = np.max(probabilities)\n            message = f\"Predicted Texture: {prediction[0]}\\nConfidence: {max_prob:.2f}\"\n            messagebox.showinfo(\"Prediction Results\", message)\n            continue_classifying = messagebox.askyesno(\"Continue\", \"Do you want to classify another image?\")\n        else:\n            continue_classifying = False\n    root.destroy()",
      "metadata": {
        "trusted": true
      },
      "outputs": [],
      "execution_count": null
    },
    {
      "cell_type": "code",
      "source": "#funkcja wykonawcza dla calego programu, zapisanie cech do pliku .csv\ndef main():\n    texture_folders = [choose_texture_folder(f'Select Texture Folder {i + 1}') for i in range(4)]\n    all_features, all_labels = [], []\n    feature_properties = ['dissimilarity', 'correlation', 'contrast', 'energy', 'homogeneity', 'ASM']\n    distances = [1, 3, 5]\n    angles = [0, np.pi / 4, np.pi / 2, 3 * np.pi / 4]\n    feature_scaler = StandardScaler()\n\n    for folder in texture_folders:\n        images = extract_and_resize_images(folder)\n        features = compute_texture_features(images, distances, angles, feature_properties)\n        all_features.extend(features)\n        all_labels.extend([os.path.basename(folder)] * len(features))\n\n    feature_df = pd.DataFrame(all_features)\n    feature_df['label'] = all_labels\n    feature_df.to_csv('texture_features.csv', index=False)\n\n    data = pd.read_csv('texture_features.csv')\n    X = data.iloc[:, :-1].values\n    y = data['label'].values\n    X_train, X_test, y_train, y_test = train_test_split(X, y, test_size=0.3, random_state=42)\n\n    X_train_scaled = feature_scaler.fit_transform(X_train)\n    X_test_scaled = feature_scaler.transform(X_test)\n\n    texture_classifier = setup_classifier()\n    texture_classifier.fit(X_train_scaled, y_train)\n    predictions = texture_classifier.predict(X_test_scaled)\n\n    execute_image_classification(texture_classifier, feature_scaler)\n\n\nif __name__ == \"__main__\":\n    main()",
      "metadata": {
        "trusted": true
      },
      "outputs": [],
      "execution_count": null
    }
  ]
}