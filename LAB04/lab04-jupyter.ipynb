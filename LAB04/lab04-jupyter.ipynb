{
 "cells": [
  {
   "metadata": {},
   "cell_type": "raw",
   "source": [
    "Rozwiazanie zadania 4 na zajęcia POI - 254321 Adam Bartosik\n",
    "Wykorzystano bibliotekę keras do zapoznania się z wielowarstwowymi sieciami perceptorowymi\n",
    "link do repozytorium z kodem: https://github.com/magix87/POI_254321/tree/859ae0a94c54fa1e97ddf8c13bfa580d397520fb/LAB04"
   ],
   "id": "cc38fdedc4f48eec"
  },
  {
   "metadata": {},
   "cell_type": "code",
   "outputs": [],
   "execution_count": null,
   "source": [
    "#Importy do programu\n",
    "import pandas as pd\n",
    "import numpy as np\n",
    "import tkinter as tk\n",
    "from tkinter import filedialog\n",
    "from keras import Sequential\n",
    "from tensorflow.keras.layers import Input, Dense\n",
    "from sklearn.preprocessing import LabelEncoder, OneHotEncoder\n",
    "from sklearn.metrics import confusion_matrix\n",
    "from sklearn.model_selection import train_test_split"
   ],
   "id": "7b6e6888f9e2479f"
  },
  {
   "metadata": {},
   "cell_type": "code",
   "outputs": [],
   "execution_count": null,
   "source": [
    "#funkcja odpowiedzialna za wybor pliku przez użytkownika i zwrócenie jego scieżki\n",
    "def select_file(prompt):\n",
    "    root = tk.Tk()\n",
    "    root.withdraw()  # Ukrycie głównego okna\n",
    "    file_selected = filedialog.askopenfilename(title=prompt)  # Wybór pliku\n",
    "    root.destroy()\n",
    "    return file_selected"
   ],
   "id": "55eaf109cd762540"
  },
  {
   "metadata": {},
   "cell_type": "code",
   "outputs": [],
   "execution_count": null,
   "source": [
    "#funkcja odpowiedzialna za odczytanie danych z plików .csv z zadania 3, wykorzystuje biblioteke pandas\n",
    "def load_data(filepath):\n",
    "    data = pd.read_csv(filepath)\n",
    "    X = data.drop('label', axis=1)\n",
    "    y = data['label']\n",
    "    print(f\"Liczba unikalnych klas: {data['label'].nunique()}\")\n",
    "    return X, y\n"
   ],
   "id": "7529bf6b1b2f5e98"
  },
  {
   "metadata": {},
   "cell_type": "code",
   "outputs": [],
   "execution_count": null,
   "source": [
    "#funkcja wykorzystywana do stworzenia etykiet w formacie onehot, wykorzystywanym w modelach maszynowych\n",
    "def preprocess_labels(y):\n",
    "    label_encoder = LabelEncoder()\n",
    "    y_encoded = label_encoder.fit_transform(y)\n",
    "    onehot_encoder = OneHotEncoder()\n",
    "    y_onehot = onehot_encoder.fit_transform(y_encoded.reshape(-1, 1)).toarray()\n",
    "    return y_onehot\n"
   ],
   "id": "cb3c60c3af850d90"
  },
  {
   "metadata": {},
   "cell_type": "code",
   "outputs": [],
   "execution_count": null,
   "source": [
    "#funkcja tworząca model sieci neuronowej typu sequential\n",
    "def build_model(input_shape, num_classes):\n",
    "    model = Sequential()\n",
    "    model.add(Input(shape=(input_shape,)))\n",
    "    model.add(Dense(10, activation='sigmoid'))\n",
    "    model.add(Dense(num_classes, activation='softmax'))\n",
    "    model.compile(loss='categorical_crossentropy', optimizer='sgd', metrics=['accuracy'])\n",
    "    return model\n"
   ],
   "id": "6c38cc9562c66a0a"
  },
  {
   "metadata": {},
   "cell_type": "code",
   "outputs": [],
   "execution_count": null,
   "source": [
    "#funkcja przeprowadzająca uczenie modelu, zwraca macierz pomyłek\n",
    "def train_and_evaluate_model(model, X_train, y_train, X_test, y_test):\n",
    "    model.fit(X_train, y_train, epochs=100, batch_size=10, shuffle=True)\n",
    "    y_pred = model.predict(X_test)\n",
    "    y_pred_int = np.argmax(y_pred, axis=1)\n",
    "    y_test_int = np.argmax(y_test, axis=1)\n",
    "    cmatrix = confusion_matrix(y_test_int, y_pred_int)\n",
    "    return cmatrix\n"
   ],
   "id": "d449252491946a75"
  },
  {
   "metadata": {},
   "cell_type": "code",
   "outputs": [],
   "execution_count": null,
   "source": [
    "#funkcja wykonawcza\n",
    "def main():\n",
    "    file_path = select_file(\"Wybierz plik\")\n",
    "    X, y = load_data(file_path)\n",
    "    y_onehot = preprocess_labels(y)\n",
    "    num_classes = y_onehot.shape[1]\n",
    "    X_train, X_test, y_train, y_test = train_test_split(X, y_onehot, test_size=0.3)\n",
    "\n",
    "    model = build_model(X_train.shape[1], num_classes)\n",
    "    cmatrix = train_and_evaluate_model(model, X_train, y_train, X_test, y_test)\n",
    "    print(\"Macierz pomyłek:\\n\", cmatrix)\n",
    "\n",
    "\n",
    "if __name__ == \"__main__\":\n",
    "    main()"
   ],
   "id": "d8ec88cbfb06166"
  }
 ],
 "metadata": {
  "kernelspec": {
   "display_name": "Python 3",
   "language": "python",
   "name": "python3"
  },
  "language_info": {
   "codemirror_mode": {
    "name": "ipython",
    "version": 2
   },
   "file_extension": ".py",
   "mimetype": "text/x-python",
   "name": "python",
   "nbconvert_exporter": "python",
   "pygments_lexer": "ipython2",
   "version": "2.7.6"
  }
 },
 "nbformat": 4,
 "nbformat_minor": 5
}
